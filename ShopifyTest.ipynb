{
 "cells": [
  {
   "cell_type": "code",
   "execution_count": 8,
   "metadata": {
    "collapsed": true
   },
   "outputs": [],
   "source": [
    "# credentials is dict with the keys\n",
    "# {'CONSUMER_KEY': 'xxxxx',\n",
    "# 'CONSUMER_SECRET': 'xxxxx',\n",
    "# 'OAUTH_TOKEN': 'xxxxx',\n",
    "# 'OAUTH_TOKEN_SECRET': 'xxxxx'}\n",
    "\n",
    "import json\n",
    "with open('credentials.json', 'r') as f:\n",
    "    credentials = json.load(f)"
   ]
  },
  {
   "cell_type": "code",
   "execution_count": 11,
   "metadata": {
    "collapsed": false
   },
   "outputs": [],
   "source": [
    "import twitter\n",
    "auth = twitter.oauth.OAuth(credentials['OAUTH_TOKEN'], credentials['OAUTH_TOKEN_SECRET'],\n",
    "                           credentials['CONSUMER_KEY'], credentials['CONSUMER_SECRET'])\n",
    "twitter_api = twitter.Twitter(auth=auth)"
   ]
  },
  {
   "cell_type": "code",
   "execution_count": 16,
   "metadata": {
    "collapsed": true
   },
   "outputs": [],
   "source": [
    "import sys\n",
    "import time\n",
    "from urllib.error import URLError\n",
    "from http.client import BadStatusLine\n",
    "import json\n",
    "import twitter\n",
    "\n",
    "def make_twitter_request(twitter_api_func, max_errors=10, *args, **kw): \n",
    "    # A nested helper function that handles common HTTPErrors. Return an updated\n",
    "    # value for wait_period if the problem is a 500 level error. Block until the\n",
    "    # rate limit is reset if it's a rate limiting issue (429 error). Returns None\n",
    "    # for 401 and 404 errors, which requires special handling by the caller.\n",
    "    def handle_twitter_http_error(e, wait_period=2, sleep_when_rate_limited=True):\n",
    "    \n",
    "        if wait_period > 3600: # Seconds\n",
    "            print('Too many retries. Quitting.', file=sys.stderr)\n",
    "            raise e\n",
    "    \n",
    "        # See https://dev.twitter.com/docs/error-codes-responses for common codes\n",
    "    \n",
    "        if e.e.code == 401:\n",
    "            print('Encountered 401 Error (Not Authorized)', file=sys.stderr)\n",
    "            return None\n",
    "        elif e.e.code == 404:\n",
    "            print('Encountered 404 Error (Not Found)', file=sys.stderr)\n",
    "            return None\n",
    "        elif e.e.code == 429: \n",
    "            print('Encountered 429 Error (Rate Limit Exceeded)', file = sys.stderr)\n",
    "            if sleep_when_rate_limited:\n",
    "                print(\"Retrying in 15 minutes...ZzZ...\", file=sys.stderr)\n",
    "                sys.stderr.flush()\n",
    "                time.sleep(60*15 + 5)\n",
    "                print('...ZzZ...Awake now and trying again.', file=sys.stderr)\n",
    "                return 2\n",
    "            else:\n",
    "                raise e # Caller must handle the rate limiting issue\n",
    "        elif e.e.code in (500, 502, 503, 504):\n",
    "            print('Encountered {:} Error. Retrying in {:} seconds'.format( \\\n",
    "                    e.e.code, wait_period), file=sys.stderr)\n",
    "            time.sleep(wait_period)\n",
    "            wait_period *= 1.5\n",
    "            return wait_period\n",
    "        else:\n",
    "            raise e\n",
    "\n",
    "    # End of nested helper function\n",
    "    \n",
    "    wait_period = 2 \n",
    "    error_count = 0 \n",
    "\n",
    "    while True:\n",
    "        try:\n",
    "            return twitter_api_func(*args, **kw)\n",
    "        except twitter.api.TwitterHTTPError as e:\n",
    "            error_count = 0 \n",
    "            wait_period = handle_twitter_http_error(e, wait_period)\n",
    "            if wait_period is None:\n",
    "                return\n",
    "        except URLError as e:\n",
    "            error_count += 1\n",
    "            time.sleep(wait_period)\n",
    "            wait_period *= 1.5\n",
    "            print(\"URLError encountered. Continuing.\", file=sys.stderr)\n",
    "            if error_count > max_errors:\n",
    "                print(\"Too many consecutive errors...bailing out.\", file=sys.stderr)\n",
    "                raise e\n",
    "        except BadStatusLine as e:\n",
    "            error_count += 1\n",
    "            time.sleep(wait_period)\n",
    "            wait_period *= 1.5\n",
    "            print(\"BadStatusLine encountered. Continuing.\", file=sys.stderr)\n",
    "            if error_count > max_errors:\n",
    "                print(\"Too many consecutive errors...bailing out.\", file=sys.stderr)\n",
    "                raise e"
   ]
  },
  {
   "cell_type": "code",
   "execution_count": 17,
   "metadata": {
    "collapsed": true
   },
   "outputs": [],
   "source": [
    "from functools import partial\n",
    "from sys import maxsize\n",
    "\n",
    "def get_followers_ids(twitter_api, screen_name=None, user_id=None, followers_limit=maxsize):\n",
    "    # Must have either screen_name or user_id (logical xor)\n",
    "    assert (screen_name != None) != (user_id != None), \\\n",
    "    \"Must have screen_name or user_id, but not both\"\n",
    "    \n",
    "    # See https://dev.twitter.com/docs/api/1.1/get/friends/ids and\n",
    "    # https://dev.twitter.com/docs/api/1.1/get/followers/ids for details\n",
    "    # on API parameters\n",
    "    get_followers_ids = partial(make_twitter_request, twitter_api.followers.ids, \n",
    "                                count=5000)\n",
    "    followers_ids = []\n",
    "    \n",
    "    for twitter_api_func, limit, ids, label in [ \n",
    "                    [get_followers_ids, followers_limit, followers_ids, \"followers\"]\n",
    "                ]:\n",
    "        if limit == 0: \n",
    "            continue\n",
    "        \n",
    "        cursor = -1\n",
    "        while cursor != 0:\n",
    "            # Use make_twitter_request via the partially bound callable...\n",
    "            if screen_name: \n",
    "                response = twitter_api_func(screen_name=screen_name, cursor=cursor)\n",
    "            else: # user_id\n",
    "                response = twitter_api_func(user_id=user_id, cursor=cursor)\n",
    "\n",
    "            if response is not None:\n",
    "                ids += response['ids']\n",
    "                cursor = response['next_cursor']\n",
    "            print('Fetched {0} total {1} ids for {2}'.format(len(ids), \\\n",
    "                        label, (user_id or screen_name)))\n",
    "            if len(ids) >= limit or response is None:\n",
    "                break\n",
    "\n",
    "    # Do something useful with the IDs, like store them to disk...\n",
    "    return followers_ids[:followers_limit]"
   ]
  },
  {
   "cell_type": "code",
   "execution_count": 18,
   "metadata": {
    "collapsed": false
   },
   "outputs": [
    {
     "name": "stderr",
     "output_type": "stream",
     "text": [
      "Encountered 429 Error (Rate Limit Exceeded)\n",
      "Retrying in 15 minutes...ZzZ...\n"
     ]
    },
    {
     "name": "stdout",
     "output_type": "stream",
     "text": [
      "Fetched 5000 total followers ids for Shopify\n",
      "Fetched 10000 total followers ids for Shopify\n",
      "Fetched 15000 total followers ids for Shopify\n",
      "Fetched 20000 total followers ids for Shopify\n",
      "Fetched 25000 total followers ids for Shopify\n",
      "Fetched 30000 total followers ids for Shopify\n",
      "Fetched 35000 total followers ids for Shopify\n",
      "Fetched 40000 total followers ids for Shopify\n",
      "Fetched 45000 total followers ids for Shopify\n",
      "Fetched 50000 total followers ids for Shopify\n",
      "Fetched 55000 total followers ids for Shopify\n",
      "Fetched 60000 total followers ids for Shopify\n",
      "Fetched 65000 total followers ids for Shopify\n",
      "Fetched 70000 total followers ids for Shopify\n",
      "Fetched 75000 total followers ids for Shopify"
     ]
    },
    {
     "name": "stderr",
     "output_type": "stream",
     "text": [
      "...ZzZ...Awake now and trying again.\n",
      "Encountered 429 Error (Rate Limit Exceeded)\n",
      "Retrying in 15 minutes...ZzZ...\n"
     ]
    },
    {
     "name": "stdout",
     "output_type": "stream",
     "text": [
      "\n",
      "Fetched 80000 total followers ids for Shopify\n",
      "Fetched 85000 total followers ids for Shopify\n",
      "Fetched 90000 total followers ids for Shopify\n",
      "Fetched 95000 total followers ids for Shopify\n",
      "Fetched 100000 total followers ids for Shopify\n",
      "Fetched 105000 total followers ids for Shopify\n",
      "Fetched 110000 total followers ids for Shopify\n",
      "Fetched 115000 total followers ids for Shopify\n",
      "Fetched 120000 total followers ids for Shopify\n",
      "Fetched 125000 total followers ids for Shopify\n",
      "Fetched 130000 total followers ids for Shopify\n",
      "Fetched 135000 total followers ids for Shopify\n",
      "Fetched 140000 total followers ids for Shopify\n",
      "Fetched 145000 total followers ids for Shopify\n",
      "Fetched 149870 total followers ids for Shopify"
     ]
    },
    {
     "name": "stderr",
     "output_type": "stream",
     "text": [
      "...ZzZ...Awake now and trying again.\n",
      "Encountered 429 Error (Rate Limit Exceeded)\n",
      "Retrying in 15 minutes...ZzZ...\n"
     ]
    },
    {
     "name": "stdout",
     "output_type": "stream",
     "text": [
      "\n",
      "Fetched 5000 total followers ids for ShopifyPicks\n",
      "Fetched 10000 total followers ids for ShopifyPicks\n",
      "Fetched 15000 total followers ids for ShopifyPicks\n",
      "Fetched 20000 total followers ids for ShopifyPicks\n",
      "Fetched 25000 total followers ids for ShopifyPicks\n",
      "Fetched 25378 total followers ids for ShopifyPicks\n"
     ]
    },
    {
     "name": "stderr",
     "output_type": "stream",
     "text": [
      "...ZzZ...Awake now and trying again.\n"
     ]
    }
   ],
   "source": [
    "Shopify_followers_ids = get_followers_ids(twitter_api, screen_name=\"Shopify\")\n",
    "Shopify_Picks_followers_ids = get_followers_ids(twitter_api, screen_name=\"ShopifyPicks\")"
   ]
  },
  {
   "cell_type": "code",
   "execution_count": 20,
   "metadata": {
    "collapsed": false
   },
   "outputs": [],
   "source": [
    "import numpy\n",
    "numpy.save('twitter-followers.npy', [Shopify_followers_ids, Shopify_Picks_followers_ids])"
   ]
  },
  {
   "cell_type": "code",
   "execution_count": 43,
   "metadata": {
    "collapsed": true
   },
   "outputs": [],
   "source": [
    "common_followers = set(Shopify_followers_ids) & set(Shopify_Picks_followers_ids)"
   ]
  },
  {
   "cell_type": "code",
   "execution_count": 46,
   "metadata": {
    "collapsed": false,
    "scrolled": false
   },
   "outputs": [
    {
     "name": "stdout",
     "output_type": "stream",
     "text": [
      "5772 followers of both @Shopify and @ShopifyPicks\n",
      "[1246265346, 2818670599, 815595528, 345571340, 342294547, 2424504342, 760676378, 2428928034, 2807627811, 114655268, 2894725161, 14221354, 169148462, 1877049392, 1231126578, 29229107, 2450260038, 257491017, 329285710, 2450227281, 443383904, 788234341, 15663217, 2391408757, 2647588982, 38273147, 2365259913, 393478300, 2882338972, 326041756, 611418271, 5767342, 355106994, 1484914878, 2182971594, 268796110, 216596688, 972325075, 2311946452, 111214812, 15663331, 251199717, 385941741, 334266608, 602177779, 2664005880, 2750644473, 85852410, 1446445322, 2540503308] ...\n"
     ]
    }
   ],
   "source": [
    "common_followers = list(common_followers)\n",
    "print('{:} followers of both @Shopify and @ShopifyPicks'.format(len(common_followers)))\n",
    "print('{:} ...'.format(common_followers[:50]))"
   ]
  },
  {
   "cell_type": "code",
   "execution_count": 38,
   "metadata": {
    "collapsed": false
   },
   "outputs": [],
   "source": [
    "A = twitter_api.users.lookup(user_id=','.join([str(a) for a in list(common_followers)[:100]])) "
   ]
  },
  {
   "cell_type": "code",
   "execution_count": 57,
   "metadata": {
    "collapsed": false
   },
   "outputs": [
    {
     "name": "stdout",
     "output_type": "stream",
     "text": [
      "Checking names of 5772 common followers\n",
      "Batch 0:100, Total 0.0%\n",
      "Batch 500:600, Total 8.6%\n",
      "Batch 1000:1100, Total 17.2%\n",
      "Batch 1500:1600, Total 25.9%\n",
      "Batch 2000:2100, Total 34.5%\n",
      "Batch 2500:2600, Total 43.1%\n",
      "Batch 3000:3100, Total 51.7%\n",
      "Batch 3500:3600, Total 60.3%\n",
      "Batch 4000:4100, Total 69.0%\n",
      "Batch 4500:4600, Total 77.6%\n",
      "Batch 5000:5100, Total 86.2%\n",
      "Batch 5500:5600, Total 94.8%\n"
     ]
    }
   ],
   "source": [
    "print('Checking names of {:} common followers'.format(len(common_followers)))\n",
    "common_follower_profiles = []\n",
    "common_follower_names = []\n",
    "n_batches = int(numpy.ceil(len(common_followers) / 100))\n",
    "for i in range(n_batches):\n",
    "    if i % 5 == 0:\n",
    "        print('Batch {:}:{:}, Total {:.1f}%'.format(i * 100, (i + 1) * 100, i / n_batches * 100))\n",
    "    user_id_ = ','.join([str(a) for a in common_followers[i * 100 : (i + 1) * 100]])\n",
    "    U = twitter_api.users.lookup(user_id=user_id_)\n",
    "    \n",
    "    common_follower_names.extend([u['screen_name'] for u in U])\n",
    "    common_follower_profiles.append(U)"
   ]
  },
  {
   "cell_type": "code",
   "execution_count": 58,
   "metadata": {
    "collapsed": false
   },
   "outputs": [],
   "source": [
    "numpy.save('common-followers.npy', [common_followers, common_follower_names])"
   ]
  },
  {
   "cell_type": "code",
   "execution_count": 59,
   "metadata": {
    "collapsed": false,
    "scrolled": true
   },
   "outputs": [
    {
     "name": "stdout",
     "output_type": "stream",
     "text": [
      "5772 followers of both @Shopify and @ShopifyPicks\n",
      "[1246265346, 2818670599, 815595528, 345571340, 342294547, 2424504342, 760676378, 2428928034, 2807627811, 114655268, 2894725161, 14221354, 169148462, 1877049392, 1231126578, 29229107, 2450260038, 257491017, 329285710, 2450227281, 443383904, 788234341, 15663217, 2391408757, 2647588982, 38273147, 2365259913, 393478300, 2882338972, 326041756, 611418271, 5767342, 355106994, 1484914878, 2182971594, 268796110, 216596688, 972325075, 2311946452, 111214812, 15663331, 251199717, 385941741, 334266608, 602177779, 2664005880, 2750644473, 85852410, 1446445322, 2540503308] ...\n",
      "['khanalsantosh66', 'Lynnag87', 'blakkybb', 'Mymummyspennies', 'CestBonChef', 'rocketaryinc', 'PlumeChocolat', 'Youngblood580', 'Paul_J_Myers', 'GreyLeeDesigns', 'taribanben', 'shonagilbert', 'AuroraImporting', 'MaxOstrov1', 'lotusbelletents', 'moopshop', 'ResponseLogic', 'fruitstudios', 'modernwebinfo', 'DelpaMusa', 'jillbuiter', 'eTail_Asia', 'aaronholmes', 'rahulyadav18000', 'KritiSarda', 'tina_kelly', 'SarahSalih7', 'bookelly_', 'NHLAPOSGEGETHE', 'Triggertrap', 'MardyMen', 'john_herman', 'threehipchicks', 'ITAPEI', 'bathlomewmary', 'carleyaw', 'KOMOKOCO', 'robertDioszegi', 'AccessoireEtsy', 'LBFutbol', 'ebayteacher', 'ChaiceBlvd', 'dandia2', 'hapcactus', 'Grooviedeals', 'BBebookcovers', 'gpvanas', 'AEAGreen', 'KerryLyonsCo', 'Jasperandeve'] ...\n"
     ]
    }
   ],
   "source": [
    "print('{:} followers of both @Shopify and @ShopifyPicks'.format(len(common_followers)))\n",
    "print('{:} ...'.format(common_followers[:50]))\n",
    "print('{:} ...'.format(common_follower_names[:50]))"
   ]
  },
  {
   "cell_type": "code",
   "execution_count": null,
   "metadata": {
    "collapsed": true
   },
   "outputs": [],
   "source": []
  }
 ],
 "metadata": {
  "kernelspec": {
   "display_name": "Python 3",
   "language": "python",
   "name": "python3"
  },
  "language_info": {
   "codemirror_mode": {
    "name": "ipython",
    "version": 3
   },
   "file_extension": ".py",
   "mimetype": "text/x-python",
   "name": "python",
   "nbconvert_exporter": "python",
   "pygments_lexer": "ipython3",
   "version": "3.4.3"
  }
 },
 "nbformat": 4,
 "nbformat_minor": 0
}
